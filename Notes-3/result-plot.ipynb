{
 "cells": [
  {
   "cell_type": "code",
   "execution_count": null,
   "id": "325be3ea",
   "metadata": {},
   "outputs": [],
   "source": [
    "import pandas as pd\n",
    "import mplfinance as mpf\n",
    "\n",
    "# === Load OHLC data ===\n",
    "ohlc = pd.read_csv(\"applyiedMacd-1.csv\", parse_dates=[\"DateTime\"])\n",
    "ohlc.set_index(\"DateTime\", inplace=True)\n",
    "\n",
    "# === Load trades CSV ===\n",
    "trades = pd.read_csv(\"bt.result.csv\", parse_dates=[\"Entry Time\", \"Exit Time\"])"
   ]
  },
  {
   "cell_type": "code",
   "execution_count": null,
   "id": "5b49a8e7",
   "metadata": {},
   "outputs": [],
   "source": [
    "\n",
    "\n",
    "# === Prepare aligned lists ===\n",
    "entries = [None] * len(ohlc)\n",
    "exits   = [None] * len(ohlc)\n",
    "sl_vals = [None] * len(ohlc)\n",
    "tp_vals = [None] * len(ohlc)\n",
    "\n",
    "for _, trade in trades.iterrows():\n",
    "    entry_idx = int(trade['Candle Index Entry'])\n",
    "    exit_idx  = int(trade['Candle Index Exit'])\n",
    "\n",
    "    if 0 <= entry_idx < len(ohlc):\n",
    "        entries[entry_idx] = ohlc['Close'].iloc[entry_idx]\n",
    "        sl_vals[entry_idx] = trade['SL']\n",
    "        tp_vals[entry_idx] = trade['TP']\n",
    "\n",
    "    if 0 <= exit_idx < len(ohlc):\n",
    "        exits[exit_idx] = ohlc['Close'].iloc[exit_idx]"
   ]
  },
  {
   "cell_type": "code",
   "execution_count": null,
   "id": "a40590ea",
   "metadata": {},
   "outputs": [],
   "source": [
    "\n",
    "\n",
    "# === Limit to 500 rows (first or last) ===\n",
    "ohlc_limited = ohlc.iloc[:250]     # first 500\n",
    "# ohlc_limited = ohlc.iloc[-500:]  # last 500\n",
    "\n",
    "# Slice markers and convert to Series with correct index\n",
    "idx = ohlc_limited.index\n",
    "entries = pd.Series(entries[:len(ohlc_limited)], index=idx)\n",
    "exits   = pd.Series(exits[:len(ohlc_limited)], index=idx)\n",
    "sl_vals = pd.Series(sl_vals[:len(ohlc_limited)], index=idx)\n",
    "tp_vals = pd.Series(tp_vals[:len(ohlc_limited)], index=idx)\n",
    "\n",
    "# === Add plots ===\n",
    "ap = [\n",
    "    mpf.make_addplot(entries, type='scatter', marker='^', color='green', markersize=12),\n",
    "    mpf.make_addplot(exits,   type='scatter', marker='v', color='red',   markersize=12),\n",
    "    mpf.make_addplot(sl_vals, type='scatter', marker='_', color='blue',  markersize=8),\n",
    "    mpf.make_addplot(tp_vals, type='scatter', marker='_', color='orange',markersize=8),\n",
    "]\n"
   ]
  },
  {
   "cell_type": "code",
   "execution_count": null,
   "id": "ae0404b1",
   "metadata": {},
   "outputs": [],
   "source": [
    "# === Plot chart ===\n",
    "mpf.plot(\n",
    "    ohlc_limited,\n",
    "    type='candle',\n",
    "    style='yahoo',\n",
    "    addplot=ap,\n",
    "    figsize=(16,8),\n",
    "    title='Backtest Trades (500 Rows)',\n",
    "    volume=True\n",
    ")"
   ]
  }
 ],
 "metadata": {
  "kernelspec": {
   "display_name": "DTXV1",
   "language": "python",
   "name": "dtxv1"
  },
  "language_info": {
   "codemirror_mode": {
    "name": "ipython",
    "version": 3
   },
   "file_extension": ".py",
   "mimetype": "text/x-python",
   "name": "python",
   "nbconvert_exporter": "python",
   "pygments_lexer": "ipython3",
   "version": "3.13.7"
  }
 },
 "nbformat": 4,
 "nbformat_minor": 5
}
