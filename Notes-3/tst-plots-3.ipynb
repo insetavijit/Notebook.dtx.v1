{
 "cells": [
  {
   "cell_type": "code",
   "execution_count": null,
   "id": "7b2d55c0",
   "metadata": {},
   "outputs": [],
   "source": [
    "import pandas as pd\n",
    "import mplfinance as mpf\n",
    "import matplotlib.patches as patches\n",
    "import matplotlib.dates as mdates\n",
    "\n",
    "# Load OHLC data\n",
    "ohlc = pd.read_csv(\"applyiedMacd-1.csv\", parse_dates=[\"DateTime\"])\n",
    "ohlc.set_index(\"DateTime\", inplace=True)\n",
    "ohlc_limited = ohlc.iloc[:250]\n",
    "\n",
    "# Load trades data\n",
    "trades = pd.read_csv(\"bt.result.csv\", parse_dates=[\"Entry Time\", \"Exit Time\"])\n",
    "\n",
    "# Plot candlestick chart and get axis\n",
    "fig, axlist = mpf.plot(\n",
    "    ohlc_limited,\n",
    "    type='candle',\n",
    "    style='yahoo',\n",
    "    figsize=(16,8),\n",
    "    title=\"Trades with Rectangles\",\n",
    "    returnfig=True\n",
    ")\n",
    "ax = axlist[0]\n",
    "\n",
    "# Draw rectangles for each trade\n",
    "for _, trade in trades.iterrows():\n",
    "    x0 = mdates.date2num(trade['Entry Time'])\n",
    "    x1 = mdates.date2num(trade['Exit Time'])\n",
    "    y0 = min(trade['SL'], trade['TP'])\n",
    "    height = abs(trade['TP'] - trade['SL'])\n",
    "\n",
    "    rect = patches.Rectangle(\n",
    "        (x0, y0),\n",
    "        x1 - x0,\n",
    "        height,\n",
    "        linewidth=1.5,\n",
    "        edgecolor='blue',  # simple single color\n",
    "        facecolor='none',  # hollow rectangle\n",
    "        linestyle='-',\n",
    "        zorder=5\n",
    "    )\n",
    "    ax.add_patch(rect)\n",
    "\n",
    "mpf.show()\n"
   ]
  }
 ],
 "metadata": {
  "kernelspec": {
   "display_name": "DTXV1",
   "language": "python",
   "name": "dtxv1"
  },
  "language_info": {
   "codemirror_mode": {
    "name": "ipython",
    "version": 3
   },
   "file_extension": ".py",
   "mimetype": "text/x-python",
   "name": "python",
   "nbconvert_exporter": "python",
   "pygments_lexer": "ipython3",
   "version": "3.13.7"
  }
 },
 "nbformat": 4,
 "nbformat_minor": 5
}
