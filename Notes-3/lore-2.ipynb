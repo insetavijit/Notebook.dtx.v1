{
 "cells": [
  {
   "cell_type": "code",
   "execution_count": null,
   "id": "9a06b97a",
   "metadata": {},
   "outputs": [],
   "source": [
    "import pandas as pd\n",
    "import mplfinance as mpf\n",
    "import matplotlib.patches as patches\n",
    "\n",
    "# === Load OHLC data ===\n",
    "ohlc = pd.read_csv(\"applyiedMacd-1.csv\", parse_dates=[\"DateTime\"])\n",
    "ohlc.set_index(\"DateTime\", inplace=True)\n",
    "\n",
    "# === Load trades CSV ===\n",
    "trades = pd.read_csv(\"bt.result.csv\", parse_dates=[\"Entry Time\", \"Exit Time\"])\n",
    "\n",
    "# === Limit to 250 rows for plotting ===\n",
    "ohlc_limited = ohlc.iloc[:250]"
   ]
  },
  {
   "cell_type": "code",
   "execution_count": null,
   "id": "708c295d",
   "metadata": {},
   "outputs": [],
   "source": [
    "import matplotlib.patches as patches\n",
    "\n",
    "def draw_trade_boxes(ax, ohlc, trades):\n",
    "    for _, trade in trades.iterrows():\n",
    "        entry_idx = int(trade['Candle Index Entry'])\n",
    "        exit_idx  = int(trade['Candle Index Exit'])\n",
    "\n",
    "        # Skip if trade is outside the plotted window\n",
    "        if entry_idx >= len(ohlc) or exit_idx >= len(ohlc):\n",
    "            continue\n",
    "\n",
    "        # X-axis: index positions (candles)\n",
    "        x0 = entry_idx\n",
    "        width = max(1, exit_idx - entry_idx)  # at least width=1\n",
    "\n",
    "        # Y-axis: span from SL to TP\n",
    "        y0 = min(trade['SL'], trade['TP'])\n",
    "        height = abs(trade['TP'] - trade['SL'])\n",
    "\n",
    "        # Decide box color:\n",
    "        if trade['Exit Price'] == trade['SL']:\n",
    "            facecolor = \"red\"   # SL hit\n",
    "        elif trade['Exit Price'] == trade['TP']:\n",
    "            facecolor = \"green\" # TP hit\n",
    "        else:\n",
    "            facecolor = \"gray\"  # neither (manual exit, maybe)\n",
    "\n",
    "        # Draw rectangle (hollow box)\n",
    "        rect = patches.Rectangle(\n",
    "            (x0, y0),\n",
    "            width,\n",
    "            height,\n",
    "            linewidth=1.5,\n",
    "            edgecolor=facecolor,\n",
    "            facecolor=\"none\",\n",
    "            linestyle=\"--\"\n",
    "        )\n",
    "        ax.add_patch(rect)\n"
   ]
  },
  {
   "cell_type": "code",
   "execution_count": null,
   "id": "9835f362",
   "metadata": {},
   "outputs": [],
   "source": [
    "# === Plot with mplfinance and pass axes to custom function ===\n",
    "fig, axlist = mpf.plot(\n",
    "    ohlc_limited,\n",
    "    type='candle',\n",
    "    style='yahoo',\n",
    "    figsize=(16,8),\n",
    "    title='Backtest Trades with Boxes',\n",
    "    returnfig=True\n",
    ")\n",
    "\n",
    "# Main candlestick axis is the first one\n",
    "ax = axlist[0]\n",
    "\n",
    "# Draw trade boxes\n",
    "draw_trade_boxes(ax, ohlc_limited, trades)\n",
    "\n",
    "mpf.show()"
   ]
  }
 ],
 "metadata": {
  "kernelspec": {
   "display_name": "DTXV1",
   "language": "python",
   "name": "dtxv1"
  },
  "language_info": {
   "codemirror_mode": {
    "name": "ipython",
    "version": 3
   },
   "file_extension": ".py",
   "mimetype": "text/x-python",
   "name": "python",
   "nbconvert_exporter": "python",
   "pygments_lexer": "ipython3",
   "version": "3.13.7"
  }
 },
 "nbformat": 4,
 "nbformat_minor": 5
}
