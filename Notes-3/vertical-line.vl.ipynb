{
 "cells": [
  {
   "cell_type": "code",
   "execution_count": null,
   "id": "65509862",
   "metadata": {},
   "outputs": [],
   "source": [
    "import pandas as pd\n",
    "import mplfinance as mpf\n",
    "import numpy as np\n",
    "from io import StringIO"
   ]
  },
  {
   "cell_type": "code",
   "execution_count": null,
   "id": "8555b0a7",
   "metadata": {},
   "outputs": [],
   "source": [
    "# Sample data\n",
    "data_str = \"\"\"Date,Time,Open,High,Low,Close,Col7,Col8,Col9\n",
    "2024.01.02,01:30:00,2068.308,2068.462,2066.869,2068.094,15,0,369\n",
    "2024.01.02,01:45:00,2068.081,2068.951,2066.290,2066.536,15,0,369\n",
    "2024.01.02,02:00:00,2066.512,2066.749,2063.891,2064.607,15,0,368\n",
    "2024.01.02,02:15:00,2064.619,2066.983,2064.560,2066.596,15,0,369\n",
    "2024.01.02,02:30:00,2066.597,2068.247,2065.657,2067.342,15,0,369\n",
    "2024.01.02,02:45:00,2067.307,2068.267,2067.207,2067.669,15,0,367\n",
    "2024.01.02,03:00:00,2067.693,2069.394,2066.422,2068.867,15,0,368\n",
    "2024.01.02,03:15:00,2068.934,2069.863,2068.934,2069.631,15,0,368\n",
    "2024.01.02,03:30:00,2069.589,2069.854,2069.295,2069.767,15,0,369\n",
    "2024.01.02,03:45:00,2069.688,2070.338,2068.541,2069.487,15,0,368\"\"\"\n",
    "\n",
    "# Load data\n",
    "df = pd.read_csv(StringIO(data_str), sep=\",\")\n",
    "df['DateTime'] = pd.to_datetime(df['Date'] + ' ' + df['Time'])\n",
    "df.set_index('DateTime', inplace=True)\n",
    "df = df[['Open','High','Low','Close']]\n",
    "\n",
    "df['isBear'] = (df['Close'] < df['Open']).astype(int)\n",
    "\n",
    "# Create the plot and get the figure and axes list\n",
    "df.head()\n"
   ]
  },
  {
   "cell_type": "code",
   "execution_count": null,
   "id": "21ab45fd",
   "metadata": {},
   "outputs": [],
   "source": [
    "def add_vertical_lines_on_flagged_candles(axis, df, flag_col='isBear', color='red', linewidth=2):\n",
    "    ax= axis[0]\n",
    "    \"\"\"\n",
    "    Add full-plot-height vertical lines on flagged candles to an existing plot.\n",
    "    \"\"\"\n",
    "    ylim = ax.get_ylim()  # Get current plot limits\n",
    "    for i, flag in enumerate(df[flag_col]):\n",
    "        if flag == 1:\n",
    "            ax.vlines(i, ylim[0], ylim[1], color=color, linewidth=linewidth)\n",
    "    ax.figure.canvas.draw()  # Update the figure\n"
   ]
  },
  {
   "cell_type": "code",
   "execution_count": null,
   "id": "6ca43d26",
   "metadata": {},
   "outputs": [],
   "source": [
    "fig, axlist = mpf.plot(df, type='candle', style='classic', returnfig=True)\n",
    "\n",
    "# Add vertical lines on flagged candles\n",
    "add_vertical_lines_on_flagged_candles(axlist, df, flag_col='isBear')"
   ]
  }
 ],
 "metadata": {
  "kernelspec": {
   "display_name": "DTXV1",
   "language": "python",
   "name": "dtxv1"
  },
  "language_info": {
   "codemirror_mode": {
    "name": "ipython",
    "version": 3
   },
   "file_extension": ".py",
   "mimetype": "text/x-python",
   "name": "python",
   "nbconvert_exporter": "python",
   "pygments_lexer": "ipython3",
   "version": "3.13.7"
  }
 },
 "nbformat": 4,
 "nbformat_minor": 5
}
