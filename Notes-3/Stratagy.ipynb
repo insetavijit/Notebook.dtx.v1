{
 "cells": [
  {
   "cell_type": "code",
   "execution_count": null,
   "id": "ed7540af",
   "metadata": {},
   "outputs": [
    {
     "name": "stdout",
     "output_type": "stream",
     "text": [
      "       Open      High       Low     Close  Volume\n",
      "0  2064.593  2066.092  2063.301  2065.142      10\n",
      "1  2065.159  2065.900  2064.443  2064.698      15\n",
      "2  2064.664  2065.131  2063.634  2064.258      15\n",
      "3  2064.259  2064.259  2062.643  2063.543      14\n",
      "4  2063.347  2064.932  2063.331  2064.006      15\n"
     ]
    }
   ],
   "source": [
    "import pandas as pd\n",
    "import mplfinance as mpf\n",
    "import matplotlib.dates as mdates\n",
    "import numpy as np\n",
    "\n",
    "# Load the MT5 CSV\n",
    "df = pd.read_csv( \"xauusdm15.filtered.csv\" )\n",
    "\n",
    "# Set DateTime as index\n",
    "df['DateTime'] = pd.to_datetime(df[\"DateTime\"])\n",
    "df.set_index(\"DateTime\", inplace=True)\n",
    "\n",
    "# Optional: keep only OHLC + Volume for plotting\n",
    "ohlc_df = df[[\"Open\", \"High\", \"Low\", \"Close\", \"Volume\"]]\n",
    "\n",
    "print(ohlc_df.head())"
   ]
  }
 ],
 "metadata": {
  "kernelspec": {
   "display_name": "DTXV1",
   "language": "python",
   "name": "dtxv1"
  },
  "language_info": {
   "codemirror_mode": {
    "name": "ipython",
    "version": 3
   },
   "file_extension": ".py",
   "mimetype": "text/x-python",
   "name": "python",
   "nbconvert_exporter": "python",
   "pygments_lexer": "ipython3",
   "version": "3.13.7"
  }
 },
 "nbformat": 4,
 "nbformat_minor": 5
}
