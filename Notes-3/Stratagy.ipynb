{
 "cells": [
  {
   "cell_type": "code",
   "execution_count": null,
   "id": "ed7540af",
   "metadata": {},
   "outputs": [],
   "source": [
    "import pandas as pd\n",
    "import mplfinance as mpf\n",
    "import matplotlib.dates as mdates\n",
    "import numpy as np\n",
    "\n",
    "# Load the MT5 CSV\n",
    "df = pd.read_csv( \"xauusdm15.filtered.csv\" )\n",
    "\n",
    "# Set DateTime as index\n",
    "df['DateTime'] = pd.to_datetime(df[\"DateTime\"])\n",
    "df.set_index(\"DateTime\", inplace=True)\n",
    "\n",
    "# Optional: keep only OHLC + Volume for plotting\n",
    "ohlc_df = df[[\"Open\", \"High\", \"Low\", \"Close\", \"Volume\"]]\n",
    "\n",
    "print(ohlc_df.head())"
   ]
  },
  {
   "cell_type": "code",
   "execution_count": null,
   "id": "e6be56d8",
   "metadata": {},
   "outputs": [],
   "source": [
    "ohlc_df['EMA_5'] = talib.EMA(ohlc_df['Close'], timeperiod=5)\n",
    "\n",
    "# Convert to HTML\n",
    "html_table = ohlc_df.to_html(index=False)\n",
    "\n",
    "# Render HTML table in Jupyter Notebook\n",
    "display(HTML(html_table))"
   ]
  }
 ],
 "metadata": {
  "kernelspec": {
   "display_name": "DTXV1",
   "language": "python",
   "name": "dtxv1"
  },
  "language_info": {
   "codemirror_mode": {
    "name": "ipython",
    "version": 3
   },
   "file_extension": ".py",
   "mimetype": "text/x-python",
   "name": "python",
   "nbconvert_exporter": "python",
   "pygments_lexer": "ipython3",
   "version": "3.13.7"
  }
 },
 "nbformat": 4,
 "nbformat_minor": 5
}
