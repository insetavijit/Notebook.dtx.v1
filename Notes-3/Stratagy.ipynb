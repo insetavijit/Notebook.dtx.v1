{
 "cells": [
  {
   "cell_type": "code",
   "execution_count": null,
   "id": "ed7540af",
   "metadata": {},
   "outputs": [],
   "source": [
    "import pandas as pd\n",
    "import mplfinance as mpf\n",
    "import matplotlib.dates as mdates\n",
    "import numpy as np\n",
    "\n",
    "# Load the MT5 CSV\n",
    "df = pd.read_csv( \"xauusdm15.filtered.csv\" )\n",
    "\n",
    "# Set DateTime as index\n",
    "df['DateTime'] = pd.to_datetime(df[\"DateTime\"])\n",
    "df.set_index(\"DateTime\", inplace=True)\n",
    "\n",
    "# Optional: keep only OHLC + Volume for plotting\n",
    "ohlc_df = df[[\"Open\", \"High\", \"Low\", \"Close\", \"Volume\"]]\n"
   ]
  },
  {
   "cell_type": "code",
   "execution_count": null,
   "id": "5c8448c2",
   "metadata": {},
   "outputs": [],
   "source": [
    "def add_vertical_lines_on_flagged_candles(axis, df, flag_col='isBear', color='red', linewidth=2):\n",
    "    ax= axis[0]\n",
    "    \"\"\"\n",
    "    Add full-plot-height vertical lines on flagged candles to an existing plot.\n",
    "    \"\"\"\n",
    "    ylim = ax.get_ylim()  # Get current plot limits\n",
    "    for i, flag in enumerate(df[flag_col]):\n",
    "        if flag == 1:\n",
    "            ax.vlines(i, ylim[0], ylim[1], color=color, linewidth=linewidth)\n",
    "    ax.figure.canvas.draw()  # Update the figure\n",
    "\n"
   ]
  },
  {
   "cell_type": "code",
   "execution_count": null,
   "id": "fa52a4c8",
   "metadata": {},
   "outputs": [],
   "source": [
    "import pandas as pd\n",
    "\n",
    "def detect_macd_cross(df, macd_col='MACD', signal_col='MACD_Signal'):\n",
    "    \"\"\"\n",
    "    Detects MACD crossovers in a DataFrame.\n",
    "\n",
    "    Parameters:\n",
    "    - df: DataFrame containing MACD and Signal columns\n",
    "    - macd_col: name of the MACD column\n",
    "    - signal_col: name of the Signal column\n",
    "\n",
    "    Returns:\n",
    "    - A Series with 1 (buy), -1 (sell), 0 (no crossover)\n",
    "    \"\"\"\n",
    "    cross = pd.Series(0, index=df.index)\n",
    "\n",
    "    # Buy signal: MACD crosses above Signal\n",
    "    buy_mask = (df[macd_col].shift(1) < df[signal_col].shift(1)) & (df[macd_col] > df[signal_col])\n",
    "    cross[buy_mask] = 1\n",
    "\n",
    "    # Sell signal: MACD crosses below Signal\n",
    "    sell_mask = (df[macd_col].shift(1) > df[signal_col].shift(1)) & (df[macd_col] < df[signal_col])\n",
    "    cross[sell_mask] = -1\n",
    "\n",
    "    return cross\n"
   ]
  },
  {
   "cell_type": "code",
   "execution_count": null,
   "id": "e6be56d8",
   "metadata": {},
   "outputs": [],
   "source": [
    "import talib\n",
    "import pandas as pd\n",
    "\n",
    "# Assume ohlc_df has a 'Close' column\n",
    "# MACD calculation\n",
    "macd_line, signal_line, macd_hist = talib.MACD(\n",
    "    ohlc_df['Close'],\n",
    "    fastperiod=12,\n",
    "    slowperiod=26,\n",
    "    signalperiod=9\n",
    ")\n",
    "\n",
    "# Add to your DataFrame\n",
    "ohlc_df['MACD'] = macd_line\n",
    "ohlc_df['MACD_Signal'] = signal_line\n",
    "ohlc_df['MACD_Hist'] = macd_hist\n",
    "\n",
    "# View the first few rows\n",
    "ohlc_df['Crossover'] = detect_macd_cross(ohlc_df)\n",
    "ohlc_df[['MACD', 'MACD_Signal', 'MACD_Hist', 'Crossover']].tail()\n"
   ]
  },
  {
   "cell_type": "code",
   "execution_count": null,
   "id": "57d68dbb",
   "metadata": {},
   "outputs": [],
   "source": [
    "import mplfinance as mpf\n",
    "import pandas as pd\n",
    "\n",
    "def plot_candles(df):\n",
    "    df = df.copy()\n",
    "    df.index = pd.to_datetime(df.index)\n",
    "\n",
    "    addplots = []\n",
    "\n",
    "    # Only add EMA if it exists\n",
    "    # addplots.append(mpf.make_addplot(df['EMA_51'], color='orange', width=1.2))\n",
    "\n",
    "    addplots.append(mpf.make_addplot(df['MACD'], panel=1, color='green', width=1.2))\n",
    "    addplots.append(mpf.make_addplot(df['MACD_Signal'], panel=1, color='red', width=1.2))\n",
    "\n",
    "    charttype = \"candle\"\n",
    "    title = f\"{charttype.capitalize()} - Chart\"\n",
    "\n",
    "    fig, axes = mpf.plot(\n",
    "        df,\n",
    "        type=charttype,\n",
    "        style='classic',\n",
    "        volume=False,\n",
    "        figratio=(14, 7),\n",
    "        figscale=1.2,\n",
    "        returnfig=True,\n",
    "        addplot=addplots,\n",
    "        title=title\n",
    "    )\n",
    "    return fig, axes\n"
   ]
  },
  {
   "cell_type": "code",
   "execution_count": null,
   "id": "54e2a56e",
   "metadata": {},
   "outputs": [],
   "source": [
    "plot_candles(ohlc_df.iloc[23400:]);"
   ]
  }
 ],
 "metadata": {
  "kernelspec": {
   "display_name": "DTXV1",
   "language": "python",
   "name": "dtxv1"
  },
  "language_info": {
   "codemirror_mode": {
    "name": "ipython",
    "version": 3
   },
   "file_extension": ".py",
   "mimetype": "text/x-python",
   "name": "python",
   "nbconvert_exporter": "python",
   "pygments_lexer": "ipython3",
   "version": "3.13.7"
  }
 },
 "nbformat": 4,
 "nbformat_minor": 5
}
