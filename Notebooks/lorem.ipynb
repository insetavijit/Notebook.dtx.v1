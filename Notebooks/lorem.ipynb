{
 "cells": [
  {
   "cell_type": "code",
   "execution_count": null,
   "id": "4330241b",
   "metadata": {},
   "outputs": [],
   "source": [
    "import pandas as pd\n",
    "\n",
    "# Load the MT5 CSV\n",
    "df = pd.read_csv(\n",
    "    \"XAUUSDM15.csv\",\n",
    "    sep=\"\\t\" ,             # Tab-separated\n",
    "    parse_dates=[[0, 1]],  # Combine <DATE> and <TIME> into one column\n",
    "    dayfirst=True          # Because MT5 uses YYYY.MM.DD\n",
    ")\n",
    "\n",
    "# Rename columns for convenience\n",
    "df.rename(columns={\n",
    "    \"<DATE>_<TIME>\": \"DateTime\",\n",
    "    \"<OPEN>\": \"Open\",\n",
    "    \"<HIGH>\": \"High\",\n",
    "    \"<LOW>\": \"Low\",\n",
    "    \"<CLOSE>\": \"Close\",\n",
    "    \"<TICKVOL>\": \"Volume\",\n",
    "    \"<VOL>\": \"TICKVOL\",\n",
    "    \"<SPREAD>\": \"Spread\"\n",
    "}, inplace=True)\n",
    "\n",
    "# Set DateTime as index\n",
    "df['DateTime'] = pd.to_datetime(df[\"DateTime\"])\n",
    "df.set_index(\"DateTime\", inplace=True)\n",
    "\n",
    "# Optional: keep only OHLC + Volume for plotting\n",
    "ohlc_df = df[[\"Open\", \"High\", \"Low\", \"Close\", \"Volume\"]]\n",
    "\n",
    "print(ohlc_df.head())\n",
    "\n",
    "# Save cleaned CSV (optional)\n",
    "ohlc_df.to_csv(\"xauusdm15.filtered.csv\")\n"
   ]
  },
  {
   "cell_type": "code",
   "execution_count": null,
   "id": "ea806a5d",
   "metadata": {},
   "outputs": [],
   "source": [
    "ohlc_df.shape"
   ]
  },
  {
   "cell_type": "code",
   "execution_count": null,
   "id": "f3cc2f8c",
   "metadata": {},
   "outputs": [],
   "source": [
    "import mplfinance as mpf\n",
    "\n",
    "# Take last 500 rows (or however many you want)\n",
    "plot_this_data = ohlc_df.tail(250)\n",
    "\n",
    "# Plot as line chart\n",
    "mpf.plot(\n",
    "    plot_this_data,\n",
    "    type=\"candle\",     # <-- this makes it a line chart\n",
    "    style=\"yahoo\",\n",
    "    volume=True,     # shows volume\n",
    "    # mav=(10, 21),    # optional moving averages,\n",
    "    figratio=(3, 1),\n",
    "    title=\"MT5 Line Chart\"\n",
    ")\n"
   ]
  }
 ],
 "metadata": {
  "kernelspec": {
   "display_name": "DTXV1",
   "language": "python",
   "name": "dtxv1"
  },
  "language_info": {
   "codemirror_mode": {
    "name": "ipython",
    "version": 3
   },
   "file_extension": ".py",
   "mimetype": "text/x-python",
   "name": "python",
   "nbconvert_exporter": "python",
   "pygments_lexer": "ipython3",
   "version": "3.13.7"
  }
 },
 "nbformat": 4,
 "nbformat_minor": 5
}
