{
 "cells": [
  {
   "cell_type": "code",
   "execution_count": null,
   "id": "2709f102",
   "metadata": {},
   "outputs": [],
   "source": [
    "import pandas as pd\n",
    "\n",
    "# Load the MT5 CSV\n",
    "df = pd.read_csv( \"xauusdm15.filtered.csv\" )\n",
    "\n",
    "# Set DateTime as index\n",
    "df['DateTime'] = pd.to_datetime(df[\"DateTime\"])\n",
    "df.set_index(\"DateTime\", inplace=True)\n",
    "\n",
    "# Optional: keep only OHLC + Volume for plotting\n",
    "ohlc_df = df[[\"Open\", \"High\", \"Low\", \"Close\", \"Volume\"]]\n",
    "\n",
    "print(ohlc_df.head())"
   ]
  },
  {
   "cell_type": "code",
   "execution_count": null,
   "id": "4625f7fa",
   "metadata": {},
   "outputs": [],
   "source": [
    "import mplfinance as mpf\n",
    "\n",
    "# Take last 500 rows (or however many you want)\n",
    "plot_this_data = ohlc_df.tail(250)\n",
    "\n",
    "# Plot as line chart\n",
    "mpf.plot(\n",
    "    plot_this_data,\n",
    "    type=\"candle\",     # <-- this makes it a line chart\n",
    "    style=\"yahoo\",\n",
    "    volume=True,     # shows volume\n",
    "    # mav=(10, 21),    # optional moving averages,\n",
    "    figratio=(13, 5),\n",
    "    title=\"MT5 Line Chart\"\n",
    ")"
   ]
  }
 ],
 "metadata": {
  "kernelspec": {
   "display_name": "DTXV1",
   "language": "python",
   "name": "dtxv1"
  },
  "language_info": {
   "codemirror_mode": {
    "name": "ipython",
    "version": 3
   },
   "file_extension": ".py",
   "mimetype": "text/x-python",
   "name": "python",
   "nbconvert_exporter": "python",
   "pygments_lexer": "ipython3",
   "version": "3.13.7"
  }
 },
 "nbformat": 4,
 "nbformat_minor": 5
}
