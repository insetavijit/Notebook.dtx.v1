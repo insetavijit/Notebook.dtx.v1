{
 "cells": [
  {
   "cell_type": "code",
   "execution_count": 1,
   "id": "a12502b5",
   "metadata": {},
   "outputs": [
    {
     "data": {
      "text/plain": [
       "{'Starting Cash': 50000,\n",
       " 'Ending Cash': 46354.78307100009,\n",
       " 'Total Return %': -7.2904338579998145,\n",
       " 'Total Trades': 798,\n",
       " 'Wins': 221,\n",
       " 'Losses': 577,\n",
       " 'Win Rate %': 27.694235588972433,\n",
       " 'Total PnL': np.float64(189.81900000000155),\n",
       " 'Average Risk-Reward Ratio': np.float64(3.5115510666961636),\n",
       " 'Max Drawdown %': 7.297896943999833,\n",
       " 'Sharpe Ratio': None}"
      ]
     },
     "execution_count": 1,
     "metadata": {},
     "output_type": "execute_result"
    }
   ],
   "source": [
    "import pandas as pd\n",
    "from bt_mods import bktst\n",
    "\n",
    "# Load and preprocess in notebook\n",
    "df = pd.read_csv(\"applyiedMacd-1.csv\", parse_dates=[\"DateTime\"])\n",
    "df.set_index(\"DateTime\", inplace=True)\n",
    "\n",
    "# Optionally slice/filter\n",
    "df = df\n",
    "\n",
    "# Run backtest with DataFrame\n",
    "trades_df, summary = bktst(df, instrumentName=\"XAUUSD\", cash=50000)\n",
    "\n",
    "summary\n",
    "# trades_df.head()"
   ]
  }
 ],
 "metadata": {
  "kernelspec": {
   "display_name": "DTXV1.0",
   "language": "python",
   "name": "mykernel"
  },
  "language_info": {
   "codemirror_mode": {
    "name": "ipython",
    "version": 3
   },
   "file_extension": ".py",
   "mimetype": "text/x-python",
   "name": "python",
   "nbconvert_exporter": "python",
   "pygments_lexer": "ipython3",
   "version": "3.13.7"
  }
 },
 "nbformat": 4,
 "nbformat_minor": 5
}
