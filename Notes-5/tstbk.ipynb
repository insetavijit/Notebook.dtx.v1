{
 "cells": [
  {
   "cell_type": "code",
   "execution_count": null,
   "id": "793657a2",
   "metadata": {},
   "outputs": [],
   "source": [
    "# ------------------ PIPELINE: BACKTEST + PLOT ------------------\n",
    "import pandas as pd\n",
    "from bt_mods import bktst\n",
    "from plot_results import plot_results"
   ]
  },
  {
   "cell_type": "code",
   "execution_count": null,
   "id": "810273bb",
   "metadata": {},
   "outputs": [],
   "source": [
    "ohlc_file = \"applyiedMacd-1.csv\"\n",
    "ohlc = pd.read_csv(ohlc_file, parse_dates=[\"DateTime\"]).set_index(\"DateTime\")\n",
    "\n",
    "# Optional: slice/filter OHLC\n",
    "start_row, end_row = 300, 450\n",
    "\n",
    "ohlc_slice = ohlc.iloc[start_row:end_row]\n",
    "\n",
    "trades_df, summary = bktst(ohlc, instrumentName=\"XAUUSD\", cash=50000)\n",
    "\n",
    "plot_results(\n",
    "    ohlc,                # full OHLC or sliced if desired\n",
    "    trades_df,           # trades from backtest\n",
    "    start_row=start_row,\n",
    "    end_row=end_row,\n",
    "    title=\"XAUUSD M15 Trades\"\n",
    ")\n"
   ]
  },
  {
   "cell_type": "code",
   "execution_count": null,
   "id": "aefc8054",
   "metadata": {},
   "outputs": [],
   "source": [
    "summary"
   ]
  }
 ],
 "metadata": {
  "kernelspec": {
   "display_name": "DTXV1",
   "language": "python",
   "name": "dtxv1"
  },
  "language_info": {
   "codemirror_mode": {
    "name": "ipython",
    "version": 3
   },
   "file_extension": ".py",
   "mimetype": "text/x-python",
   "name": "python",
   "nbconvert_exporter": "python",
   "pygments_lexer": "ipython3",
   "version": "3.13.7"
  }
 },
 "nbformat": 4,
 "nbformat_minor": 5
}
