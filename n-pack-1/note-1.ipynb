{
 "cells": [
  {
   "cell_type": "code",
   "execution_count": 18,
   "id": "93018d5e",
   "metadata": {},
   "outputs": [],
   "source": [
    "import numpy as np\n",
    "import pandas as pd\n",
    "# import mplfinance as mpf\n",
    "# import matplotlib.patches as patches\n",
    "# import talib\n",
    "# from typing import Tuple, Optional, Dict, List\n",
    "# import warnings"
   ]
  },
  {
   "cell_type": "code",
   "execution_count": 19,
   "id": "9589d63c",
   "metadata": {},
   "outputs": [
    {
     "data": {
      "text/html": [
       "<div>\n",
       "<style scoped>\n",
       "    .dataframe tbody tr th:only-of-type {\n",
       "        vertical-align: middle;\n",
       "    }\n",
       "\n",
       "    .dataframe tbody tr th {\n",
       "        vertical-align: top;\n",
       "    }\n",
       "\n",
       "    .dataframe thead th {\n",
       "        text-align: right;\n",
       "    }\n",
       "</style>\n",
       "<table border=\"1\" class=\"dataframe\">\n",
       "  <thead>\n",
       "    <tr style=\"text-align: right;\">\n",
       "      <th></th>\n",
       "      <th>DateTime</th>\n",
       "      <th>Open</th>\n",
       "      <th>High</th>\n",
       "      <th>Low</th>\n",
       "      <th>Close</th>\n",
       "      <th>Volume</th>\n",
       "    </tr>\n",
       "  </thead>\n",
       "  <tbody>\n",
       "    <tr>\n",
       "      <th>0</th>\n",
       "      <td>2024-01-01 23:00:00</td>\n",
       "      <td>2064.593</td>\n",
       "      <td>2066.092</td>\n",
       "      <td>2063.301</td>\n",
       "      <td>2065.142</td>\n",
       "      <td>10</td>\n",
       "    </tr>\n",
       "    <tr>\n",
       "      <th>1</th>\n",
       "      <td>2024-01-01 23:15:00</td>\n",
       "      <td>2065.159</td>\n",
       "      <td>2065.900</td>\n",
       "      <td>2064.443</td>\n",
       "      <td>2064.698</td>\n",
       "      <td>15</td>\n",
       "    </tr>\n",
       "    <tr>\n",
       "      <th>2</th>\n",
       "      <td>2024-01-01 23:30:00</td>\n",
       "      <td>2064.664</td>\n",
       "      <td>2065.131</td>\n",
       "      <td>2063.634</td>\n",
       "      <td>2064.258</td>\n",
       "      <td>15</td>\n",
       "    </tr>\n",
       "  </tbody>\n",
       "</table>\n",
       "</div>"
      ],
      "text/plain": [
       "              DateTime      Open      High       Low     Close  Volume\n",
       "0  2024-01-01 23:00:00  2064.593  2066.092  2063.301  2065.142      10\n",
       "1  2024-01-01 23:15:00  2065.159  2065.900  2064.443  2064.698      15\n",
       "2  2024-01-01 23:30:00  2064.664  2065.131  2063.634  2064.258      15"
      ]
     },
     "execution_count": 19,
     "metadata": {},
     "output_type": "execute_result"
    }
   ],
   "source": [
    "Query = \"\"\"\n",
    "Close above EMA21\n",
    "Rsi above 30\n",
    "\"\"\"\n",
    "\n",
    "# ohlc = pd.read_csv('./xauusd15.filtered.csv')\n",
    "ohlc = pd.read_csv( \"xauusdm15.filtered.csv\" )\n",
    "\n",
    "\n",
    "ohlc.head(3)"
   ]
  },
  {
   "cell_type": "code",
   "execution_count": 32,
   "id": "11132eae",
   "metadata": {},
   "outputs": [
    {
     "data": {
      "text/plain": [
       "'EMA21'"
      ]
     },
     "execution_count": 32,
     "metadata": {},
     "output_type": "execute_result"
    }
   ],
   "source": [
    "\n",
    "# Convert to 2D list\n",
    "array_2d = [line.split() for line in Query.strip().split(\"\\n\")]\n",
    "\n",
    "# Make DataFrame\n",
    "df = pd.DataFrame(array_2d, columns=[\"CLM1\", \"CABR\", \"CLM2\"])\n",
    "\n",
    "df.iloc[0,2]\n",
    "# df['CLM'][1]\n"
   ]
  },
  {
   "cell_type": "code",
   "execution_count": null,
   "id": "32fcc6fd",
   "metadata": {},
   "outputs": [],
   "source": [
    "import vectorbt as vbt\n",
    "import yfinance as yf\n",
    "\n",
    "# 1. Get historical data\n",
    "ohlc = yf.download(\"AAPL\", start=\"2020-01-01\", end=\"2023-01-01\")\n",
    "\n",
    "# 2. Indicators\n",
    "fast_ema = vbt.IndicatorFactory.from_talib(\"EMA\")(ohlc[\"Close\"], timeperiod=9).ema\n",
    "slow_ema = vbt.IndicatorFactory.from_talib(\"EMA\")(ohlc[\"Close\"], timeperiod=21).ema\n",
    "\n",
    "# 3. Generate signals\n",
    "entries = fast_ema > slow_ema     # when fast EMA crosses above slow EMA\n",
    "exits   = fast_ema < slow_ema     # when fast EMA crosses below slow EMA\n",
    "\n",
    "# 4. Run backtest\n",
    "portfolio = vbt.Portfolio.from_signals(\n",
    "    close=ohlc[\"Close\"],\n",
    "    entries=entries,\n",
    "    exits=exits,\n",
    "    init_cash=10000,\n",
    "    fees=0.001\n",
    ")\n",
    "\n",
    "# 5. Results\n",
    "print(portfolio.stats())\n",
    "portfolio.plot().show()\n"
   ]
  }
 ],
 "metadata": {
  "kernelspec": {
   "display_name": "DTXV1",
   "language": "python",
   "name": "dtxv1"
  },
  "language_info": {
   "codemirror_mode": {
    "name": "ipython",
    "version": 3
   },
   "file_extension": ".py",
   "mimetype": "text/x-python",
   "name": "python",
   "nbconvert_exporter": "python",
   "pygments_lexer": "ipython3",
   "version": "3.13.7"
  }
 },
 "nbformat": 4,
 "nbformat_minor": 5
}
