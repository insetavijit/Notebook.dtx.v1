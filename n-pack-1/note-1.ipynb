{
 "cells": [
  {
   "cell_type": "code",
   "execution_count": null,
   "id": "93018d5e",
   "metadata": {},
   "outputs": [],
   "source": [
    "import numpy as np\n",
    "import pandas as pd\n",
    "\n",
    "import talib as ta\n",
    "\n",
    "# import mplfinance as mpf\n",
    "# import matplotlib.patches as patches\n",
    "# import talib\n",
    "# from typing import Tuple, Optional, Dict, List\n",
    "# import warnings"
   ]
  },
  {
   "cell_type": "code",
   "execution_count": null,
   "id": "9589d63c",
   "metadata": {},
   "outputs": [],
   "source": [
    "Query = \"\"\"\n",
    "Close above EMA21\n",
    "Rsi above 30\n",
    "\"\"\"\n",
    "\n",
    "# ohlc = pd.read_csv('./xauusd15.filtered.csv')\n",
    "ohlc = pd.read_csv( \"xauusdm15.filtered.csv\" )\n",
    "\n",
    "\n",
    "ohlc.columns.tolist()"
   ]
  },
  {
   "cell_type": "code",
   "execution_count": null,
   "id": "11132eae",
   "metadata": {},
   "outputs": [],
   "source": [
    "\n",
    "# Convert to 2D list\n",
    "array_2d = [line.split() for line in Query.strip().split(\"\\n\")]\n",
    "\n",
    "# Make DataFrame\n",
    "df = pd.DataFrame(array_2d, columns=[\"CLM1\", \"CABR\", \"CLM2\"])\n",
    "\n",
    "df.iloc[0,2]\n",
    "# df['CLM'][1]\n"
   ]
  },
  {
   "cell_type": "code",
   "execution_count": null,
   "id": "fa51580f",
   "metadata": {},
   "outputs": [],
   "source": [
    "ohlc_ta = ohlc.copy()\n",
    "\n",
    "\n",
    "indiSet = np.array([\n",
    "    [\"EMA\", 21, None, None],\n",
    "    [\"RSI\", 14, None, None],\n",
    "    [\"SMA\", 10, None, None],\n",
    "], dtype=object)\n",
    "\n",
    "ohlc_ta[indiSet[0,0]]=ta.EMA(ohlc_ta['Close'], 21)\n",
    "\n",
    "\n",
    "# print(indiSet[0,0])\n",
    "\n",
    "\n",
    "\n",
    "\n",
    "ohlc_ta.head(3)"
   ]
  }
 ],
 "metadata": {
  "kernelspec": {
   "display_name": "DTXV1",
   "language": "python",
   "name": "dtxv1"
  },
  "language_info": {
   "codemirror_mode": {
    "name": "ipython",
    "version": 3
   },
   "file_extension": ".py",
   "mimetype": "text/x-python",
   "name": "python",
   "nbconvert_exporter": "python",
   "pygments_lexer": "ipython3",
   "version": "3.13.7"
  }
 },
 "nbformat": 4,
 "nbformat_minor": 5
}
