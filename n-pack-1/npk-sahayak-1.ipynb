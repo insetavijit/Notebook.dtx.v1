{
 "cells": [
  {
   "cell_type": "code",
   "execution_count": 2,
   "id": "0688e633",
   "metadata": {},
   "outputs": [],
   "source": [
    "import numpy as np\n",
    "import pandas as pd\n",
    "import talib\n",
    "\n",
    "# Example DataFrame\n",
    "ohlc_ta = pd.read_csv( \"xauusdm15.filtered.csv\" )\n",
    "\n",
    "\n",
    "# Indicator set as 2D NumPy array\n",
    "indiSet = np.array([\n",
    "    [\"EMA\", 21, None, None],\n",
    "    [\"RSI\", 14, None, None],\n",
    "    [\"SMA\", 10, None, None],\n",
    "], dtype=object)\n",
    "\n",
    "# Loop over indicators\n",
    "for row in indiSet:\n",
    "    name, p1, p2, p3 = row   # unpack values\n",
    "    func = getattr(talib, name)   # get the TA-Lib function by name\n",
    "\n",
    "    # Build kwargs depending on which params are present\n",
    "    kwargs = {}\n",
    "    if p1 is not None: kwargs[\"timeperiod\"] = int(p1)\n",
    "    if p2 is not None: kwargs[\"fastperiod\"] = int(p2)\n",
    "    if p3 is not None: kwargs[\"signalperiod\"] = int(p3)\n",
    "\n",
    "    # Apply indicator\n",
    "    ohlc_ta[f\"{name}_{p1}\"] = func(ohlc_ta[\"Close\"], **kwargs)\n",
    "\n",
    "ohlc_ta.to_csv('auto-indig.csv')\n"
   ]
  }
 ],
 "metadata": {
  "kernelspec": {
   "display_name": "DTXV1.0",
   "language": "python",
   "name": "mykernel"
  },
  "language_info": {
   "codemirror_mode": {
    "name": "ipython",
    "version": 3
   },
   "file_extension": ".py",
   "mimetype": "text/x-python",
   "name": "python",
   "nbconvert_exporter": "python",
   "pygments_lexer": "ipython3",
   "version": "3.13.7"
  }
 },
 "nbformat": 4,
 "nbformat_minor": 5
}
