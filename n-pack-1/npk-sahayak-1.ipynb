{
 "cells": [
  {
   "cell_type": "code",
   "execution_count": null,
   "id": "0688e633",
   "metadata": {},
   "outputs": [
    {
     "name": "stdout",
     "output_type": "stream",
     "text": [
      "                  DateTime      Open      High       Low     Close  Volume  \\\n",
      "23511  2024-12-31 20:45:00  2622.889  2623.982  2622.633  2623.216    1215   \n",
      "23512  2024-12-31 21:00:00  2623.181  2624.128  2622.898  2623.950     573   \n",
      "23513  2024-12-31 21:15:00  2624.003  2624.336  2623.478  2624.023     414   \n",
      "23514  2024-12-31 21:30:00  2624.028  2624.677  2623.825  2624.526     340   \n",
      "23515  2024-12-31 21:45:00  2624.570  2624.925  2624.043  2624.381     580   \n",
      "\n",
      "            EMA_21     RSI_14     SMA_10  \n",
      "23511  2622.862966  53.886042  2624.1905  \n",
      "23512  2622.961787  56.016907  2624.0241  \n",
      "23513  2623.058261  56.233516  2623.9492  \n",
      "23514  2623.191692  57.776547  2623.7143  \n",
      "23515  2623.299811  57.151027  2623.6578  \n"
     ]
    }
   ],
   "source": [
    "import numpy as np\n",
    "import pandas as pd\n",
    "import talib\n",
    "\n",
    "# Example DataFrame\n",
    "ohlc_ta = pd.read_csv( \"xauusdm15.filtered.csv\" )\n",
    "\n",
    "\n",
    "# Indicator set as 2D NumPy array\n",
    "indiSet = np.array([\n",
    "    [\"EMA\", 21, None, None],\n",
    "    [\"RSI\", 14, None, None],\n",
    "    [\"SMA\", 10, None, None],\n",
    "], dtype=object)\n",
    "\n",
    "# Loop over indicators\n",
    "for row in indiSet:\n",
    "    name, p1, p2, p3 = row   # unpack values\n",
    "    func = getattr(talib, name)   # get the TA-Lib function by name\n",
    "\n",
    "    # Build kwargs depending on which params are present\n",
    "    kwargs = {}\n",
    "    if p1 is not None: kwargs[\"timeperiod\"] = int(p1)\n",
    "    if p2 is not None: kwargs[\"fastperiod\"] = int(p2)\n",
    "    if p3 is not None: kwargs[\"signalperiod\"] = int(p3)\n",
    "\n",
    "    # Apply indicator\n",
    "    ohlc_ta[f\"{name}_{p1}\"] = func(ohlc_ta[\"Close\"], **kwargs)\n",
    "\n",
    "print(ohlc_ta.tail())\n"
   ]
  }
 ],
 "metadata": {
  "kernelspec": {
   "display_name": "DTXV1",
   "language": "python",
   "name": "dtxv1"
  },
  "language_info": {
   "codemirror_mode": {
    "name": "ipython",
    "version": 3
   },
   "file_extension": ".py",
   "mimetype": "text/x-python",
   "name": "python",
   "nbconvert_exporter": "python",
   "pygments_lexer": "ipython3",
   "version": "3.13.7"
  }
 },
 "nbformat": 4,
 "nbformat_minor": 5
}
